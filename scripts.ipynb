{
 "cells": [
  {
   "cell_type": "markdown",
   "metadata": {},
   "source": [
    "# Problem 1\n",
    "## Introduction\n",
    "### Say \"Hello, World!\" With Python"
   ]
  },
  {
   "cell_type": "code",
   "execution_count": 1,
   "metadata": {},
   "outputs": [
    {
     "name": "stdout",
     "output_type": "stream",
     "text": [
      "Hello, World!\n"
     ]
    }
   ],
   "source": [
    "print(\"Hello, World!\")"
   ]
  },
  {
   "cell_type": "markdown",
   "metadata": {},
   "source": [
    "### Python If-Else"
   ]
  },
  {
   "cell_type": "code",
   "execution_count": null,
   "metadata": {},
   "outputs": [],
   "source": [
    "if __name__ == '__main__':\n",
    "    n = int(input().strip())\n",
    "    if n % 2 == 1:\n",
    "        print(\"Weird\")\n",
    "    elif n % 2 == 0 and 2 <= n <= 5:\n",
    "        print(\"Not Weird\")\n",
    "    elif n % 2 == 0 and 6 <= n <= 20:\n",
    "        print(\"Weird\")\n",
    "    elif n % 2 == 0 and n > 20:\n",
    "        print(\"Not Weird\")"
   ]
  },
  {
   "cell_type": "markdown",
   "metadata": {},
   "source": [
    "### Arithmetic Operators"
   ]
  },
  {
   "cell_type": "code",
   "execution_count": null,
   "metadata": {},
   "outputs": [],
   "source": [
    "if __name__ == '__main__':\n",
    "    a = int(input())\n",
    "    b = int(input())\n",
    "    print(a + b)  # Sum of the two numbers\n",
    "    print(a - b)  # Difference of the two numbers\n",
    "    print(a * b)  # Product of the two numbers"
   ]
  },
  {
   "cell_type": "markdown",
   "metadata": {},
   "source": [
    "### Python: Division"
   ]
  },
  {
   "cell_type": "code",
   "execution_count": null,
   "metadata": {},
   "outputs": [],
   "source": [
    "if __name__ == '__main__':\n",
    "    a = int(input())\n",
    "    b = int(input())\n",
    "    print(a // b)  # Integer division\n",
    "    print(a / b)  # Float division"
   ]
  },
  {
   "cell_type": "markdown",
   "metadata": {},
   "source": [
    "### Loops"
   ]
  },
  {
   "cell_type": "code",
   "execution_count": null,
   "metadata": {},
   "outputs": [],
   "source": [
    "if __name__ == '__main__':\n",
    "    n = int(input())\n",
    "    for i in range(n):\n",
    "        print(i ** 2)"
   ]
  },
  {
   "cell_type": "markdown",
   "metadata": {},
   "source": [
    "### Division"
   ]
  },
  {
   "cell_type": "code",
   "execution_count": null,
   "metadata": {},
   "outputs": [],
   "source": [
    "if __name__ == '__main__':\n",
    "    a = int(input())\n",
    "    b = int(input())\n",
    "    \n",
    "    print(a // b)\n",
    "    print(a / b)"
   ]
  },
  {
   "cell_type": "markdown",
   "metadata": {},
   "source": [
    "### Write a function "
   ]
  },
  {
   "cell_type": "code",
   "execution_count": null,
   "metadata": {},
   "outputs": [],
   "source": [
    "def is_leap(year):\n",
    "    leap = year % 4 == 0 and (year % 100 != 0 or year % 400 == 0)\n",
    "    return leap"
   ]
  },
  {
   "cell_type": "markdown",
   "metadata": {},
   "source": [
    "### Print Function"
   ]
  },
  {
   "cell_type": "code",
   "execution_count": null,
   "metadata": {},
   "outputs": [],
   "source": [
    "if __name__ == '__main__':\n",
    "    n = int(input())\n",
    "    for i in range(1, n + 1):\n",
    "       print(i, end='')"
   ]
  },
  {
   "cell_type": "markdown",
   "metadata": {},
   "source": [
    "## Basic Data Types \n",
    "### List Comprension"
   ]
  },
  {
   "cell_type": "code",
   "execution_count": null,
   "metadata": {},
   "outputs": [],
   "source": [
    "if __name__ == '__main__':\n",
    "    x = int(input())\n",
    "    y = int(input())\n",
    "    z = int(input())\n",
    "    n = int(input())\n",
    "    \n",
    "    # I create a list of lists with all possible combinations of x, y, z and then I filter out the ones that sum to n using a list comprehension\n",
    "    print([[a, b, c] for a in range(x + 1) for b in range(y + 1) for c in range(z + 1) if a + b + c != n])"
   ]
  },
  {
   "cell_type": "markdown",
   "metadata": {},
   "source": [
    "### Find the Runner-Up Score!"
   ]
  },
  {
   "cell_type": "code",
   "execution_count": 1,
   "metadata": {},
   "outputs": [],
   "source": [
    "if __name__ == '__main__':\n",
    "    # I get the number of students from the user\n",
    "    n = int(input())\n",
    "    \n",
    "    # I create a iterable object with the students  grades\n",
    "    arr = map(int, input().split())\n",
    "    \n",
    "    # I convert the map object to a list and then I convert it to a set to remove duplicates because the set data structure does not allow duplicates \n",
    "    # so it will remove them automatically\n",
    "    scores = set(arr)\n",
    "    scores.remove(max(scores))\n",
    "    print(max(scores))"
   ]
  },
  {
   "cell_type": "markdown",
   "metadata": {},
   "source": [
    "### Nested List"
   ]
  },
  {
   "cell_type": "code",
   "execution_count": null,
   "metadata": {},
   "outputs": [],
   "source": [
    "if __name__ == '__main__':\n",
    "    students = []\n",
    "    # Get the number of students from the user\n",
    "    for _ in range(int(input())):\n",
    "        name = input()\n",
    "        score = float(input())\n",
    "        students.append([name,score])\n",
    "    # Sort the students by grade and delete duplicates\n",
    "    grades = sorted(set([grade for name, grade in students]))\n",
    "    # Put in a variable the list of students with the second lowest grade and sort them alphabetically\n",
    "    second_lowest_students = sorted([name for name, grade in students if grade == grades[1]])\n",
    "    # Print the students\n",
    "    for student in second_lowest_students:\n",
    "        print(student)"
   ]
  },
  {
   "cell_type": "markdown",
   "metadata": {},
   "source": [
    "### Finding the percentage"
   ]
  },
  {
   "cell_type": "code",
   "execution_count": null,
   "metadata": {},
   "outputs": [],
   "source": [
    "if __name__ == '__main__':\n",
    "    n = int(input())\n",
    "    student_marks = {}\n",
    "    for _ in range(n):\n",
    "        name, *line = input().split()\n",
    "        scores = list(map(float, line))\n",
    "        # Add the scores to the student_marks dictionary\n",
    "        student_marks[name] = scores\n",
    "    query_name = input()\n",
    "    # Calculate the average of the scores of the student with the name query_name\n",
    "    average = sum(student_marks[query_name]) / len(student_marks[query_name])\n",
    "    print(f'{average:.2f}')"
   ]
  },
  {
   "cell_type": "markdown",
   "metadata": {},
   "source": [
    "### Lists"
   ]
  },
  {
   "cell_type": "code",
   "execution_count": null,
   "metadata": {},
   "outputs": [],
   "source": [
    "if __name__ == '__main__':\n",
    "    N = int(input())\n",
    "    commands = [input().split() for _ in range(N)]\n",
    "    list = []\n",
    "    for command in commands:\n",
    "        if command[0] == 'insert':\n",
    "            list.insert(int(command[1]), int(command[2]))\n",
    "        elif command[0] == 'print':\n",
    "            print(list)\n",
    "        elif command[0] == 'remove':\n",
    "            list.remove(int(command[1]))\n",
    "        elif command[0] == 'append':\n",
    "            list.append(int(command[1]))\n",
    "        elif command[0] == 'sort':\n",
    "            list.sort()\n",
    "        elif command[0] == 'pop':\n",
    "            list.pop()\n",
    "        elif command[0] == 'reverse':\n",
    "            list.reverse()"
   ]
  },
  {
   "cell_type": "markdown",
   "metadata": {},
   "source": [
    "### Tuples"
   ]
  },
  {
   "cell_type": "code",
   "execution_count": null,
   "metadata": {},
   "outputs": [],
   "source": [
    "n = int(input().strip())\n",
    "t = tuple(map(int, input().strip().split()))\n",
    "print(hash(t))"
   ]
  },
  {
   "cell_type": "markdown",
   "metadata": {},
   "source": [
    "## String\n",
    "### Swap case"
   ]
  },
  {
   "cell_type": "code",
   "execution_count": null,
   "metadata": {},
   "outputs": [],
   "source": [
    "def swap_case(s):\n",
    "    return ''.join([char.lower() if char.isupper() else char.upper() for char in s])\n",
    "    \n",
    "\n",
    "if __name__ == '__main__':\n",
    "    s = input()\n",
    "    result = swap_case(s)\n",
    "    print(result)"
   ]
  },
  {
   "cell_type": "markdown",
   "metadata": {},
   "source": [
    "### String Split and Join"
   ]
  },
  {
   "cell_type": "code",
   "execution_count": null,
   "metadata": {},
   "outputs": [],
   "source": [
    "def split_and_join(line):\n",
    "    return '-'.join(line.split(' '))\n",
    "\n",
    "if __name__ == '__main__':\n",
    "    line = input()\n",
    "    result = split_and_join(line)\n",
    "    print(result)"
   ]
  },
  {
   "cell_type": "markdown",
   "metadata": {},
   "source": [
    "### What's Your Name?"
   ]
  },
  {
   "cell_type": "code",
   "execution_count": null,
   "metadata": {},
   "outputs": [],
   "source": [
    "\n",
    "def print_full_name(first, last):\n",
    "    print(f\"Hello {first} {last}! You just delved into python.\")\n",
    "\n",
    "if __name__ == '__main__':\n",
    "    first_name = input()\n",
    "    last_name = input()\n",
    "    print_full_name(first_name, last_name)"
   ]
  },
  {
   "cell_type": "markdown",
   "metadata": {},
   "source": [
    "### Mutations"
   ]
  },
  {
   "cell_type": "code",
   "execution_count": null,
   "metadata": {},
   "outputs": [],
   "source": [
    "def mutate_string(string, position, character):\n",
    "    return string[:position] + character + string[position+1:]\n",
    "\n",
    "if __name__ == '__main__':\n",
    "    s = input()\n",
    "    i, c = input().split()\n",
    "    s_new = mutate_string(s, int(i), c)\n",
    "    print(s_new)"
   ]
  },
  {
   "cell_type": "markdown",
   "metadata": {},
   "source": [
    "### Find a string"
   ]
  },
  {
   "cell_type": "code",
   "execution_count": null,
   "metadata": {},
   "outputs": [],
   "source": [
    "def count_substring(string, sub_string):\n",
    "    count = 0\n",
    "    # The for loop iterates in a range of len(string) - len(sub_string) + 1 \n",
    "    # because the substring can't be longer than the string and this calculates \n",
    "    # the number of times the substring can be in the string\n",
    "    for i in range(len(string) - len(sub_string) + 1):\n",
    "        # Compare the substring with the slice of the string that starts in i and ends in i + len(sub_string)\n",
    "        if string[i:i+len(sub_string)] == sub_string:\n",
    "            count += 1\n",
    "    return count\n",
    "\n",
    "if __name__ == '__main__':\n",
    "    string = input().strip()\n",
    "    sub_string = input().strip()\n",
    "    \n",
    "    count = count_substring(string, sub_string)\n",
    "    print(count)"
   ]
  },
  {
   "cell_type": "markdown",
   "metadata": {},
   "source": [
    "### String Validators"
   ]
  },
  {
   "cell_type": "code",
   "execution_count": null,
   "metadata": {},
   "outputs": [],
   "source": [
    "if __name__ == '__main__':\n",
    "    s = input()\n",
    "    print(any(c.isalnum() for c in s))\n",
    "    print(any(c.isalpha() for c in s))\n",
    "    print(any(c.isdigit() for c in s))\n",
    "    print(any(c.islower() for c in s))\n",
    "    print(any(c.isupper() for c in s))"
   ]
  },
  {
   "cell_type": "markdown",
   "metadata": {},
   "source": [
    "### Text Alignment"
   ]
  },
  {
   "cell_type": "code",
   "execution_count": null,
   "metadata": {},
   "outputs": [],
   "source": [
    "thickness = int(input())\n",
    "c = 'H'\n",
    "\n",
    "#Top Cone\n",
    "for i in range(thickness):\n",
    "    print((c*i).rjust(thickness-1)+c+(c*i).ljust(thickness-1))\n",
    "\n",
    "#Top Pillars\n",
    "for i in range(thickness+1):\n",
    "    print((c*thickness).center(thickness*2)+(c*thickness).center(thickness*6))\n",
    "\n",
    "#Middle Belt\n",
    "for i in range((thickness+1)//2):\n",
    "    print((c*thickness*5).center(thickness*6))    \n",
    "\n",
    "#Bottom Pillars\n",
    "for i in range(thickness+1):\n",
    "    print((c*thickness).center(thickness*2)+(c*thickness).center(thickness*6))    \n",
    "\n",
    "#Bottom Cone\n",
    "for i in range(thickness):\n",
    "    print(((c*(thickness-i-1)).rjust(thickness)+c+(c*(thickness-i-1)).ljust(thickness)).rjust(thickness*6))"
   ]
  },
  {
   "cell_type": "markdown",
   "metadata": {},
   "source": [
    "### Text Wrap"
   ]
  },
  {
   "cell_type": "code",
   "execution_count": null,
   "metadata": {},
   "outputs": [],
   "source": [
    "# This module is used to wrap input paragraphs and return a single string with the wrapped paragraphs\n",
    "import textwrap\n",
    "\n",
    "def wrap(string, max_width):\n",
    "    # The wrap method of the textwrap module wraps the input string in a single paragraph\n",
    "    return \"\\n\".join(textwrap.wrap(string, max_width))\n",
    "\n",
    "if __name__ == '__main__':\n",
    "    string, max_width = input(), int(input())\n",
    "    result = wrap(string, max_width)\n",
    "    print(result)"
   ]
  },
  {
   "cell_type": "markdown",
   "metadata": {},
   "source": [
    "### Designer Door Mat"
   ]
  },
  {
   "cell_type": "code",
   "execution_count": null,
   "metadata": {},
   "outputs": [],
   "source": [
    "n, m = map(int,input().split())\n",
    "# '.|. * (2 * i + 1)' create a string consisting of i times '.|.' \n",
    "# .center(m, '-') move to the center  the string in a width of m with '-' as fillchar\n",
    "# for i in range(n//2) creates a list of strings with the pattern. The n // 2 is used for not repeating the middle line\n",
    "pattern = [('.|.'*(2*i + 1)).center(m, '-') for i in range(n//2)]\n",
    "# '\\n'.join(pattern + ['WELCOME'.center(m, '-')] + pattern[::-1]) joins the list of strings with the pattern, \n",
    "# the middle line and the reversed pattern\n",
    "print('\\n'.join(pattern + ['WELCOME'.center(m, '-')] + pattern[::-1]))"
   ]
  },
  {
   "cell_type": "markdown",
   "metadata": {},
   "source": [
    "### String Formatting"
   ]
  },
  {
   "cell_type": "code",
   "execution_count": null,
   "metadata": {},
   "outputs": [],
   "source": [
    "def print_formatted(number):\n",
    "    #  Calculate the width of a number when it's represented in binary\n",
    "    # b: specifies that the number is converted to binary\n",
    "    # 0: refers to the number to be formatted\n",
    "    width = len(\"{0:b}\".format(number))\n",
    "    for i in range(1, number + 1):\n",
    "        print(\"{0:{width}d} {0:{width}o} {0:{width}X} {0:{width}b}\".format(i, width=width))\n",
    "    \n",
    "\n",
    "if __name__ == '__main__':\n",
    "    n = int(input())\n",
    "    print_formatted(n)"
   ]
  },
  {
   "cell_type": "markdown",
   "metadata": {},
   "source": [
    "### Alphabet Rangoli"
   ]
  },
  {
   "cell_type": "code",
   "execution_count": null,
   "metadata": {},
   "outputs": [],
   "source": [
    "import string \n",
    "\n",
    "def print_rangoli(size):\n",
    "    # Create a string with the alphabet in lowercase\n",
    "    alpha = string.ascii_lowercase\n",
    "    L = []\n",
    "    for i in range(size):\n",
    "        s = \"-\".join(alpha[i:size])\n",
    "        # s[::-1] return the reversed string of s\n",
    "        # s[1:] return the string s without the first character\n",
    "        # Append to the list L the string s reversed concatenated with the string s without the first character and \n",
    "        # centered in a width of 4 * size - 3 with '-' as fillchar\n",
    "        L.append((s[::-1]+s[1:]).center(4*size-3, \"-\"))\n",
    "    print('\\n'.join(L[:0:-1]+L))\n",
    "\n",
    "if __name__ == '__main__':\n",
    "    n = int(input())\n",
    "    print_rangoli(n)"
   ]
  },
  {
   "cell_type": "markdown",
   "metadata": {},
   "source": [
    "### Capitalize"
   ]
  },
  {
   "cell_type": "code",
   "execution_count": null,
   "metadata": {},
   "outputs": [],
   "source": [
    "#!/bin/python3\n",
    "\n",
    "import math\n",
    "import os\n",
    "import random\n",
    "import re\n",
    "import sys\n",
    "\n",
    "# Complete the solve function below.\n",
    "def solve(s):\n",
    "    return ' '.join(i[0].upper() + i[1:] if i else '' for i in s.split(' '))\n",
    "\n",
    "if __name__ == '__main__':\n",
    "    fptr = open(os.environ['OUTPUT_PATH'], 'w')\n",
    "\n",
    "    s = input()\n",
    "\n",
    "    result = solve(s)\n",
    "\n",
    "    fptr.write(result + '\\n')\n",
    "\n",
    "    fptr.close()\n"
   ]
  },
  {
   "cell_type": "markdown",
   "metadata": {},
   "source": [
    "### The Minion Game"
   ]
  },
  {
   "cell_type": "code",
   "execution_count": null,
   "metadata": {},
   "outputs": [],
   "source": [
    "\n",
    "def minion_game(string):\n",
    "    vowels = 'AEIOU'\n",
    "    kevin_score=0\n",
    "    stuart_score = 0\n",
    "    length = len(string)\n",
    "    for i in range(length):\n",
    "        if string[i] in vowels:\n",
    "            kevin_score += (length - i)\n",
    "        else:\n",
    "            stuart_score += (length - i)\n",
    "\n",
    "    if kevin_score > stuart_score:\n",
    "        print(\"Kevin\", kevin_score)\n",
    "    elif kevin_score < stuart_score:\n",
    "        print(\"Stuart\", stuart_score)\n",
    "    else:\n",
    "        print(\"Draw\")\n",
    "\n",
    "if __name__ == '__main__':\n",
    "    s = input()\n",
    "    minion_game(s)"
   ]
  },
  {
   "cell_type": "markdown",
   "metadata": {},
   "source": [
    "### Merge the Tools!"
   ]
  },
  {
   "cell_type": "code",
   "execution_count": null,
   "metadata": {},
   "outputs": [],
   "source": [
    "\n",
    "def merge_the_tools(string, k):\n",
    "    for i in range(0, len(string), k):\n",
    "        s = \"\"\n",
    "        for j in string[i : i + k]:\n",
    "            if j not in s:\n",
    "                s += j\n",
    "        print(s)\n",
    "if __name__ == '__main__':\n",
    "    string, k = input(), int(input())\n",
    "    merge_the_tools(string, k)"
   ]
  },
  {
   "cell_type": "markdown",
   "metadata": {},
   "source": [
    "## Sets\n",
    "### Introduction to Sets"
   ]
  },
  {
   "cell_type": "code",
   "execution_count": null,
   "metadata": {},
   "outputs": [],
   "source": [
    "\n",
    "def average(array):\n",
    "    heights = set(array)\n",
    "    return round(sum(heights) / len(heights), 3)\n",
    "\n",
    "if __name__ == '__main__':\n",
    "    n = int(input())\n",
    "    arr = list(map(int, input().split()))\n",
    "    result = average(arr)\n",
    "    print(result)"
   ]
  },
  {
   "cell_type": "markdown",
   "metadata": {},
   "source": [
    "### No Idea!"
   ]
  },
  {
   "cell_type": "code",
   "execution_count": null,
   "metadata": {},
   "outputs": [],
   "source": [
    "# Enter your code here. Read input from STDIN. Print output to STDOUT\n",
    "n, m = map(int, input().strip().split())\n",
    "array = list(map(int, input().strip().split()))\n",
    "A = set(map(int, input().strip().split()))\n",
    "B = set(map(int, input().strip().split()))\n",
    "\n",
    "happiness = 0\n",
    "for i in array:\n",
    "    if i in A:\n",
    "        happiness += 1\n",
    "    elif i in B:\n",
    "        happiness -= 1\n",
    "\n",
    "print(happiness)"
   ]
  },
  {
   "cell_type": "markdown",
   "metadata": {},
   "source": [
    "### Symmetric Difference"
   ]
  },
  {
   "cell_type": "code",
   "execution_count": null,
   "metadata": {},
   "outputs": [],
   "source": [
    "# Enter your code here. Read input from STDIN. Print output to STDOUT\n",
    "M = int(input())\n",
    "set_a = set(map(int, input().split()))\n",
    "N = int(input())\n",
    "set_b = set(map(int, input().split()))\n",
    "\n",
    "symmetric_diff = sorted(list(set_a.difference(set_b).union(set_b.difference(set_a))))\n",
    "\n",
    "for i in symmetric_diff:\n",
    "    print(i)"
   ]
  },
  {
   "cell_type": "markdown",
   "metadata": {},
   "source": [
    "### Set .add()"
   ]
  },
  {
   "cell_type": "code",
   "execution_count": null,
   "metadata": {},
   "outputs": [],
   "source": [
    "# Enter your code here. Read input from STDIN. Print output to STDOUT\n",
    "n = int(input().strip())\n",
    "stamps = set()\n",
    "\n",
    "for _ in range(n):\n",
    "    stamps.add(input())\n",
    "\n",
    "print(len(stamps))"
   ]
  },
  {
   "cell_type": "markdown",
   "metadata": {},
   "source": [
    "### Set .discard(), .remove() & .pop()"
   ]
  },
  {
   "cell_type": "code",
   "execution_count": null,
   "metadata": {},
   "outputs": [],
   "source": [
    "n = int(input().strip())\n",
    "s = set(map(int, input().strip().split()))\n",
    "n_commands = int(input().strip())\n",
    "\n",
    "for _ in range(n_commands):\n",
    "    command = input().split()\n",
    "    if command[0] == \"pop\":\n",
    "        s.pop()\n",
    "    elif command[0] == \"remove\":\n",
    "        s.remove(int(command[1]))\n",
    "    elif command[0] == \"discard\":\n",
    "        s.discard(int(command[1]))\n",
    "\n",
    "print(sum(s))"
   ]
  },
  {
   "cell_type": "markdown",
   "metadata": {},
   "source": [
    "### Set .union() Operation"
   ]
  },
  {
   "cell_type": "code",
   "execution_count": null,
   "metadata": {},
   "outputs": [],
   "source": [
    "# Enter your code here. Read input from STDIN. Print output to STDOUT\n",
    "N = int(input().strip())\n",
    "english = set(map(int, input().strip().split()))\n",
    "M = int(input().strip())\n",
    "french = set(map(int, input().strip().split()))\n",
    "\n",
    "print(len(english.union(french)))"
   ]
  },
  {
   "cell_type": "markdown",
   "metadata": {},
   "source": [
    "### Set .intersection() Operation"
   ]
  },
  {
   "cell_type": "code",
   "execution_count": null,
   "metadata": {},
   "outputs": [],
   "source": [
    "# Enter your code here. Read input from STDIN. Print output to STDOUT\n",
    "N = int(input().strip())\n",
    "english = set(map(int, input().strip().split()))\n",
    "M = int(input().strip())\n",
    "french = set(map(int, input().strip().split()))\n",
    "\n",
    "print(len(english.intersection(french)))"
   ]
  },
  {
   "cell_type": "markdown",
   "metadata": {},
   "source": [
    "### Set .difference() Operation"
   ]
  },
  {
   "cell_type": "code",
   "execution_count": null,
   "metadata": {},
   "outputs": [],
   "source": [
    "# Enter your code here. Read input from STDIN. Print output to STDOUT\n",
    "N = int(input().strip())\n",
    "english = set(map(int, input().strip().split()))\n",
    "M = int(input().strip())\n",
    "french = set(map(int, input().strip().split()))\n",
    "\n",
    "print(len(english.difference(french)))"
   ]
  },
  {
   "cell_type": "markdown",
   "metadata": {},
   "source": [
    "### Set .symmetric_difference() Operation"
   ]
  },
  {
   "cell_type": "code",
   "execution_count": null,
   "metadata": {},
   "outputs": [],
   "source": [
    "# Enter your code here. Read input from STDIN. Print output to STDOUT\n",
    "N = int(input().strip())\n",
    "english = set(map(int, input().strip().split()))\n",
    "M = int(input().strip())\n",
    "french = set(map(int, input().strip().split()))\n",
    "\n",
    "print(len(english.symmetric_difference(french)))"
   ]
  },
  {
   "cell_type": "markdown",
   "metadata": {},
   "source": [
    "### Set Mutations"
   ]
  },
  {
   "cell_type": "code",
   "execution_count": null,
   "metadata": {},
   "outputs": [],
   "source": [
    "# Enter your code here. Read input from STDIN. Print output to STDOUT\n",
    "n = int(input().strip())\n",
    "A = set(map(int, input().strip().split()))\n",
    "N = int(input().strip())\n",
    "\n",
    "for _ in range(N):\n",
    "    command, _ = input().split()\n",
    "    B = set(map(int, input().split()))\n",
    "    \n",
    "    if command == 'intersection_update':\n",
    "        A.intersection_update(B)\n",
    "    elif command == 'update':\n",
    "        A.update(B)\n",
    "    elif command == 'symmetric_difference_update':\n",
    "        A.symmetric_difference_update(B)\n",
    "    elif command == 'difference_update':\n",
    "        A.difference_update(B)\n",
    "\n",
    "print(sum(A))"
   ]
  },
  {
   "cell_type": "markdown",
   "metadata": {},
   "source": [
    "### The Captain's Room"
   ]
  },
  {
   "cell_type": "code",
   "execution_count": null,
   "metadata": {},
   "outputs": [],
   "source": [
    "# Enter your code here. Read input from STDIN. Print output to STDOUT\n",
    "from collections import Counter\n",
    "\n",
    "K = int(input())\n",
    "rooms = list(map(int, input().strip().split()))\n",
    "# Counter creates a dictionary with the number of times each element appears in the list\n",
    "# Keys are the elements and values are the number of times they appear\n",
    "counter = Counter(rooms)\n",
    "\n",
    "for key, value in counter.items():\n",
    "    if K != value:\n",
    "        print(key)\n",
    "        break"
   ]
  },
  {
   "cell_type": "markdown",
   "metadata": {},
   "source": [
    "### Check Subset"
   ]
  },
  {
   "cell_type": "code",
   "execution_count": null,
   "metadata": {},
   "outputs": [],
   "source": [
    "# Enter your code here. Read input from STDIN. Print output to STDOUT\n",
    "T = int(input())\n",
    "for _ in range(T):\n",
    "    a = int(input().strip())\n",
    "    A = set(map(int, input().strip().split()))\n",
    "    b = int(input())\n",
    "    B = set(map(int, input().strip().split()))\n",
    "    \n",
    "    print(A.issubset(B))"
   ]
  },
  {
   "cell_type": "markdown",
   "metadata": {},
   "source": [
    "### Check Strict Superset"
   ]
  },
  {
   "cell_type": "code",
   "execution_count": null,
   "metadata": {},
   "outputs": [],
   "source": [
    "# Enter your code here. Read input from STDIN. Print output to STDOUT\n",
    "A = set(map(int, input().strip().split()))\n",
    "n = int(input().strip())\n",
    "res = True\n",
    "\n",
    "for _ in range(n):\n",
    "    B = set(map(int, input().strip().split()))\n",
    "    # > in sets means that A is a strict superset of B\n",
    "    if not (A > B):\n",
    "        res = False\n",
    "        break\n",
    "\n",
    "print(res)"
   ]
  },
  {
   "cell_type": "markdown",
   "metadata": {},
   "source": [
    "## Collections\n",
    "### collections.Counter()"
   ]
  },
  {
   "cell_type": "code",
   "execution_count": null,
   "metadata": {},
   "outputs": [],
   "source": [
    "from collections import Counter\n",
    "\n",
    "n = int(input().strip())\n",
    "shoes = Counter(map(int, input().strip().split()))\n",
    "m = int(input().strip())\n",
    "income = 0\n",
    "\n",
    "for _ in range(m):\n",
    "    size, price = map(int, input().strip().split())\n",
    "    # Verify if the size is available in the shoes dictionary\n",
    "    if shoes[size]:\n",
    "        # Add the price to the icome and decrease the number of shoes in the dictionary at the size key\n",
    "        income += price\n",
    "        shoes[size] -= 1\n",
    "\n",
    "print(income)"
   ]
  },
  {
   "cell_type": "markdown",
   "metadata": {},
   "source": [
    "### Collections.namedtuple()"
   ]
  },
  {
   "cell_type": "code",
   "execution_count": null,
   "metadata": {},
   "outputs": [],
   "source": [
    "# Enter your code here. Read input from STDIN. Print output to STDOUT\n",
    "from collections import namedtuple\n",
    "\n",
    "n = int(input().strip())\n",
    "fields = input().strip().split()\n",
    "Student = namedtuple('Student', fields)\n",
    "\n",
    "# I create a list of the marks of the students\n",
    "marks = [int(Student(*input().strip().split()).MARKS) for _ in range(n)]\n",
    "average = sum(marks) / n\n",
    "\n",
    "print(round(average, 2))"
   ]
  },
  {
   "cell_type": "markdown",
   "metadata": {},
   "source": [
    "### Collections.OrderedDict()"
   ]
  },
  {
   "cell_type": "code",
   "execution_count": null,
   "metadata": {},
   "outputs": [],
   "source": [
    "# Enter your code here. Read input from STDIN. Print output to STDOUT\n",
    "from collections import OrderedDict\n",
    "\n",
    "n = int(input().strip())\n",
    "# An OrderedDict is a dictionary that remembers the order of the keys that were inserted first\n",
    "items = OrderedDict()\n",
    "\n",
    "for _ in range(n):\n",
    "    line = input().strip().split()\n",
    "    price = int(line[-1])\n",
    "    name = ' '.join(line[:-1])\n",
    "    # This returns the value of the key name or 0 if the key doesn't exist \n",
    "    items[name] = items.get(name, 0) + price\n",
    "\n",
    "for name, net_price in items.items():\n",
    "    print(name, net_price)"
   ]
  },
  {
   "cell_type": "markdown",
   "metadata": {},
   "source": [
    "### DefaultDict Tutorial"
   ]
  },
  {
   "cell_type": "code",
   "execution_count": null,
   "metadata": {},
   "outputs": [],
   "source": [
    "#Enter your code here. Read input from STDIN. Print output to STDOUT\n",
    "from collections import defaultdict\n",
    "\n",
    "n, m = map(int, input().strip().split())\n",
    "word_dict = defaultdict(list)\n",
    "\n",
    "for i in range(n):\n",
    "    word = input().strip()\n",
    "    word_dict[word].append(i+1)\n",
    "\n",
    "for i in range(m):\n",
    "    word = input().strip()\n",
    "    if word in word_dict:\n",
    "        print(' '.join(map(str, word_dict[word])))\n",
    "    else:\n",
    "        print(-1)"
   ]
  },
  {
   "cell_type": "markdown",
   "metadata": {},
   "source": [
    "### Word Order"
   ]
  },
  {
   "cell_type": "code",
   "execution_count": null,
   "metadata": {},
   "outputs": [],
   "source": [
    "# Enter your code here. Read input from STDIN. Print output to STDOUT\n",
    "from collections import OrderedDict\n",
    "\n",
    "n = int(input().strip())\n",
    "words = OrderedDict()\n",
    "\n",
    "for _ in range(n):\n",
    "    word = input().strip()\n",
    "    words[word] = words.get(word, 0) + 1\n",
    "\n",
    "print(len(words))\n",
    "print(*words.values())"
   ]
  },
  {
   "cell_type": "markdown",
   "metadata": {},
   "source": [
    "### Collections.deque()"
   ]
  },
  {
   "cell_type": "code",
   "execution_count": null,
   "metadata": {},
   "outputs": [],
   "source": [
    "# Enter your code here. Read input from STDIN. Print output to STDOUT\n",
    "from collections import deque\n",
    "\n",
    "n = int(input().strip())\n",
    "d = deque()\n",
    "\n",
    "for _ in range(n):\n",
    "    operation = input().strip().split()\n",
    "    if operation[0] == 'append':\n",
    "        d.append(int(operation[1]))\n",
    "    elif operation[0] == 'appendleft':\n",
    "        d.appendleft(int(operation[1]))\n",
    "    elif operation[0] == 'pop':\n",
    "        d.pop()\n",
    "    elif operation[0] == 'popleft':\n",
    "        d.popleft()\n",
    "\n",
    "print(*d)"
   ]
  },
  {
   "cell_type": "markdown",
   "metadata": {},
   "source": [
    "### Company Logo"
   ]
  },
  {
   "cell_type": "code",
   "execution_count": null,
   "metadata": {},
   "outputs": [],
   "source": [
    "#!/bin/python3\n",
    "\n",
    "import math\n",
    "import os\n",
    "import random\n",
    "import re\n",
    "import sys\n",
    "\n",
    "\n",
    "from collections import Counter\n",
    "\n",
    "if __name__ == '__main__':\n",
    "    s = input()\n",
    "    counter = Counter(s)\n",
    "    # This methods returns a list of tuples where each tuple contains the character\n",
    "    # and the number of times it appears orthered in descending order\n",
    "    common = counter.most_common()\n",
    "    # Sort the list of by the criteria specified in the lambda function => \n",
    "    # -x[1] is the negation of the second element of the tuple that is the count, so it sorts in descending order\n",
    "    # x[0] is the first element of the tuple that is the character, so it sorts in ascending order\n",
    "    common.sort(key=lambda x: (-x[1], x[0]))\n",
    "    for i in range(3):\n",
    "      print(*common[i])\n"
   ]
  },
  {
   "cell_type": "markdown",
   "metadata": {},
   "source": [
    "### Piling Up!"
   ]
  },
  {
   "cell_type": "code",
   "execution_count": null,
   "metadata": {},
   "outputs": [],
   "source": [
    "# Enter your code here. Read input from STDIN. Print output to \n",
    "t = int(input().strip())\n",
    "\n",
    "for _ in range(t):\n",
    "    n = int(input().strip())\n",
    "    cubes = list(map(int, input().strip().split()))\n",
    "    p = []\n",
    "\n",
    "    while cubes:\n",
    "        if cubes[0] >= cubes[-1]:\n",
    "            p.append(cubes.pop(0))\n",
    "        else:\n",
    "            p.append(cubes.pop())\n",
    "\n",
    "        if len(p) > 1 and p[-1] > p[-2]:\n",
    "            break\n",
    "    else:\n",
    "        print('Yes')\n",
    "        continue\n",
    "\n",
    "    print('No')"
   ]
  },
  {
   "cell_type": "markdown",
   "metadata": {},
   "source": [
    "\n",
    "## Date and Time\n",
    "### Calendar Module"
   ]
  },
  {
   "cell_type": "code",
   "execution_count": null,
   "metadata": {},
   "outputs": [],
   "source": [
    "# Enter your code here. Read input from STDIN. Print output to STDOUT\n",
    "import calendar\n",
    "\n",
    "month, day, year = map(int,input().strip().split())\n",
    "print(calendar.day_name[calendar.weekday(year, month, day)].upper())"
   ]
  },
  {
   "cell_type": "markdown",
   "metadata": {},
   "source": [
    "### Time Delta"
   ]
  },
  {
   "cell_type": "code",
   "execution_count": null,
   "metadata": {},
   "outputs": [],
   "source": [
    "#!/bin/python3\n",
    "\n",
    "import math\n",
    "import os\n",
    "import random\n",
    "import re\n",
    "import sys\n",
    "from datetime import datetime\n",
    "\n",
    "# Complete the time_delta function below.\n",
    "def time_delta(t1, t2):\n",
    "  date_format = '%a %d %b %Y %H:%M:%S %z'\n",
    "  time1 = datetime.strptime(t1, date_format)\n",
    "  time2 = datetime.strptime(t2, date_format)\n",
    "  return str(int(abs((time1 - time2).total_seconds())))\n",
    "\n",
    "if __name__ == '__main__':\n",
    "    fptr = open(os.environ['OUTPUT_PATH'], 'w')\n",
    "\n",
    "    t = int(input())\n",
    "\n",
    "    for t_itr in range(t):\n",
    "        t1 = input()\n",
    "\n",
    "        t2 = input()\n",
    "\n",
    "        delta = time_delta(t1, t2)\n",
    "\n",
    "        fptr.write(delta + '\\n')\n",
    "\n",
    "    fptr.close()\n"
   ]
  },
  {
   "cell_type": "markdown",
   "metadata": {},
   "source": [
    "## Exceptions"
   ]
  },
  {
   "cell_type": "code",
   "execution_count": null,
   "metadata": {},
   "outputs": [],
   "source": [
    "# Enter your code here. Read input from STDIN. Print output to STDOUT\n",
    "test_cases = int(input().strip())\n",
    "\n",
    "for test in range(test_cases):\n",
    "    try:\n",
    "        a, b = map(int,input().strip().split())\n",
    "        print(int(a/b))\n",
    "    except ZeroDivisionError as e:\n",
    "        print(\"Error Code: integer division or modulo by zero\")\n",
    "    except Exception as e:\n",
    "        print(\"Error Code:\", e)\n"
   ]
  },
  {
   "cell_type": "markdown",
   "metadata": {},
   "source": [
    "## Built-ins\n",
    "### Zipped"
   ]
  },
  {
   "cell_type": "code",
   "execution_count": null,
   "metadata": {},
   "outputs": [],
   "source": [
    "# Enter your code here. Read input from STDIN. Print output to STDOUT\n",
    "n,x = map(int, input().strip().split())\n",
    "student_marks = [list(map(float,input().strip().split())) for _ in range(x)]\n",
    "\n",
    "for student in zip(*student_marks):\n",
    "    print(sum(student) / len(student))"
   ]
  },
  {
   "cell_type": "markdown",
   "metadata": {},
   "source": [
    "### Athlete Sort"
   ]
  },
  {
   "cell_type": "code",
   "execution_count": null,
   "metadata": {},
   "outputs": [],
   "source": [
    "#!/bin/python3\n",
    "\n",
    "import math\n",
    "import os\n",
    "import random\n",
    "import re\n",
    "import sys\n",
    "\n",
    "\n",
    "\n",
    "if __name__ == '__main__':\n",
    "    nm = input().split()\n",
    "\n",
    "    n = int(nm[0])\n",
    "\n",
    "    m = int(nm[1])\n",
    "\n",
    "    arr = []\n",
    "\n",
    "    for _ in range(n):\n",
    "        arr.append(list(map(int, input().rstrip().split())))\n",
    "\n",
    "    k = int(input())\n",
    "    \n",
    "    arr = sorted(arr, key=lambda x: x[k])\n",
    "    \n",
    "    for row in arr:\n",
    "        print(' '.join(map(str, row)))\n",
    "    \n",
    "    \n"
   ]
  },
  {
   "cell_type": "markdown",
   "metadata": {},
   "source": [
    "### ginortS"
   ]
  },
  {
   "cell_type": "code",
   "execution_count": null,
   "metadata": {},
   "outputs": [],
   "source": [
    "# Enter your code here. Read input from STDIN. Print output to STDOUT\n",
    "\n",
    "\n",
    "s = input().strip()\n",
    "\n",
    "def sorting_key(char):\n",
    "    if char.islower():\n",
    "        # Lowercase letters come first, sorted alphabetically\n",
    "        return (0, char)\n",
    "    elif char.isupper():\n",
    "        # Uppercase letters come next, sorted alphabetically\n",
    "        return (1, char)\n",
    "    elif int(char) % 2 == 1:\n",
    "        # Odd digits come next, sorted numerically\n",
    "        return (2, char)\n",
    "    else:\n",
    "        # Even digits come last, sorted numerically\n",
    "        return (3, char)\n",
    "\n",
    "sorted_s = ''.join(sorted(s, key=sorting_key))\n",
    "\n",
    "print(sorted_s)\n"
   ]
  },
  {
   "cell_type": "markdown",
   "metadata": {},
   "source": [
    "## Python Functionals\n",
    "### Map and Lambda Function"
   ]
  },
  {
   "cell_type": "code",
   "execution_count": null,
   "metadata": {},
   "outputs": [],
   "source": [
    "cube = lambda x: x**3\n",
    "\n",
    "def fibonacci(n):\n",
    "    fibonacci = [0,1]\n",
    "    if n == 0:\n",
    "        return []\n",
    "    if n == 1:\n",
    "      return [0]\n",
    "    for f in range(0,n-2):\n",
    "        fibonacci.append(sum(fibonacci[-2:]))\n",
    "    return fibonacci\n",
    "         \n",
    "    \n",
    "\n",
    "if __name__ == '__main__':\n",
    "    n = int(input())\n",
    "    print(list(map(cube, fibonacci(n))))"
   ]
  },
  {
   "cell_type": "markdown",
   "metadata": {},
   "source": [
    "## Regex and Parsing"
   ]
  },
  {
   "cell_type": "markdown",
   "metadata": {},
   "source": [
    "### Detect Floating Point Number"
   ]
  },
  {
   "cell_type": "code",
   "execution_count": null,
   "metadata": {},
   "outputs": [],
   "source": [
    "# Enter your code here. Read input from STDIN. Print output to STDOUT\n",
    "import re\n",
    "\n",
    "n_float = int(input().strip())\n",
    "\n",
    "# ^        : Start of the string.\n",
    "# [+-]?    : Optionally match a plus or minus sign.\n",
    "# \\d*      : Match zero or more digits.\n",
    "# \\.       : Match a literal dot.\n",
    "# \\d+      : Match one or more digits.\n",
    "# $        : End of the string.\n",
    "pattern = r'^[+-]?\\d*\\.\\d+$'\n",
    "# re.match(pattern,input().strip()) returns a match object if the input string matches the pattern\n",
    "print (*[bool(re.match(pattern,input().strip())) for _ in range(n_float)], sep=\"\\n\")\n"
   ]
  },
  {
   "cell_type": "markdown",
   "metadata": {},
   "source": [
    "### Re.split()"
   ]
  },
  {
   "cell_type": "code",
   "execution_count": null,
   "metadata": {},
   "outputs": [],
   "source": [
    "regex_pattern = r\"[.,]\"\n",
    "\n",
    "import re\n",
    "print(\"\\n\".join(re.split(regex_pattern, input())))"
   ]
  },
  {
   "cell_type": "markdown",
   "metadata": {},
   "source": [
    "### Group(), Groups() & Groupdict()"
   ]
  },
  {
   "cell_type": "code",
   "execution_count": null,
   "metadata": {},
   "outputs": [],
   "source": [
    "# Enter your code here. Read input from STDIN. Print output to STDOUT\n",
    "import re\n",
    "\n",
    "s = input().strip()\n",
    "# (        : Start of a group.\n",
    "# [a-zA-Z0-9] : Match any alphanumeric character (a-z, A-Z, 0-9).\n",
    "# )        : End of the group.\n",
    "# \\1       : Backreference to the first group, matches the same text as most recently matched by the 1st capturing group.\n",
    "pattern = r'([a-zA-Z0-9])\\1' \n",
    "# re.search returns a match object if the pattern is found in the string\n",
    "match = re.search(pattern, s)\n",
    "print(match.group(1) if match else -1)\n"
   ]
  },
  {
   "cell_type": "markdown",
   "metadata": {},
   "source": [
    "### Re.findall() & Re.finditer()"
   ]
  },
  {
   "cell_type": "code",
   "execution_count": null,
   "metadata": {},
   "outputs": [],
   "source": [
    "# Enter your code here. Read input from STDIN. Print output to STDOUT\n",
    "import re\n",
    "\n",
    "s = input().strip()\n",
    "# (?<=[^aeiouAEIOU]) : Positive lookbehind assertion. \n",
    "# This asserts that what immediately precedes the current position in the string is any character not in 'aeiouAEIOU'.\n",
    "# ([aeiouAEIOU]{2,}) : Match any character in 'aeiouAEIOU' two or more times.\n",
    "# (?=[^aeiouAEIOU])  : Positive lookahead assertion. \n",
    "# This asserts that what immediately follows the current position in the string is any character not in 'aeiouAEIOU'.\n",
    "pattern = '(?<=[^aeiouAEIOU])([aeiouAEIOU]{2,})(?=[^aeiouAEIOU])'\n",
    "\n",
    "# re.findall returns a list of all the matches of the pattern in the string\n",
    "matches = re.findall(pattern, s)\n",
    "if matches:\n",
    "    print(*matches, sep=\"\\n\")\n",
    "else:\n",
    "    print(-1)\n"
   ]
  },
  {
   "cell_type": "markdown",
   "metadata": {},
   "source": [
    "### Re.start() & Re.end()"
   ]
  },
  {
   "cell_type": "code",
   "execution_count": null,
   "metadata": {},
   "outputs": [],
   "source": [
    "# Enter your code here. Read input from STDIN. Print output to STDOUT\n",
    "import re\n",
    "\n",
    "string = input().strip()\n",
    "sub_string = input().strip()\n",
    "# re.finditer returns an iterator that produces match objects over the string\n",
    "matches = list(re.finditer('(?=(' + sub_string + '))', string))\n",
    "if not matches:\n",
    "    print((-1, -1))\n",
    "else:\n",
    "    print(*[(match.start(), match.end() + len(sub_string) - 1) for match in matches], sep=\"\\n\")\n"
   ]
  },
  {
   "cell_type": "markdown",
   "metadata": {},
   "source": [
    "### Regex Substitution"
   ]
  },
  {
   "cell_type": "code",
   "execution_count": null,
   "metadata": {},
   "outputs": [],
   "source": [
    "# Enter your code here. Read input from STDIN. Print output to STDOUT\n",
    "\n",
    "import re\n",
    "\n",
    "n = int(input().strip())\n",
    "\n",
    "for _ in range(n):\n",
    "    string = input()\n",
    "    string = re.sub('(?<= )(&&)(?= )', 'and', string)\n",
    "    string = re.sub('(?<= )(\\|\\|)(?= )', 'or', string)\n",
    "    print(string)\n"
   ]
  },
  {
   "cell_type": "markdown",
   "metadata": {},
   "source": [
    "### Validating Roman Numerals"
   ]
  },
  {
   "cell_type": "code",
   "execution_count": null,
   "metadata": {},
   "outputs": [],
   "source": [
    "# ^        : Start of the string.\n",
    "# (M{0,3}) : Match the character 'M' (representing 1000 in Roman numerals) 0 to 3 times.\n",
    "# (CM|CD|D?C{0,3}) : Match either 'CM' (900), 'CD' (400), 'D' followed by 0 to 3 'C's (500-800), or 0 to 3 'C's (100-300).\n",
    "# (XC|XL|L?X{0,3}) : Match either 'XC' (90), 'XL' (40), 'L' followed by 0 to 3 'X's (50-80), or 0 to 3 'X's (10-30).\n",
    "# (IX|IV|V?I{0,3}) : Match either 'IX' (9), 'IV' (4), 'V' followed by 0 to 3 'I's (5-8), or 0 to 3 'I's (1-3).\n",
    "# $        : End of the string.\n",
    "regex_pattern = r\"^(M{0,3})(CM|CD|D?C{0,3})(XC|XL|L?X{0,3})(IX|IV|V?I{0,3})$\"\n",
    "import re\n",
    "print(str(bool(re.match(regex_pattern, input()))))"
   ]
  },
  {
   "cell_type": "markdown",
   "metadata": {},
   "source": [
    "### Validating phone numbers"
   ]
  },
  {
   "cell_type": "code",
   "execution_count": null,
   "metadata": {},
   "outputs": [],
   "source": [
    "# Enter your code here. Read input from STDIN. Print output to STDOUT\n",
    "import re\n",
    "\n",
    "n = int(input().strip())\n",
    "\n",
    "# ^        : Start of the string.\n",
    "# [789]    : Match any one digit either 7, 8, or 9.\n",
    "# \\d{9}    : Match exactly 9 digits (0-9).\n",
    "# $        : End of the string.\n",
    "pattern = \"^[789]\\d{9}$\"\n",
    "\n",
    "for _ in range(n):\n",
    "    if bool(re.match(pattern, input().strip())):\n",
    "        print(\"YES\")\n",
    "    else:\n",
    "        print(\"NO\")\n"
   ]
  },
  {
   "cell_type": "markdown",
   "metadata": {},
   "source": [
    "### Validating and Parsing Email Addresses"
   ]
  },
  {
   "cell_type": "code",
   "execution_count": null,
   "metadata": {},
   "outputs": [],
   "source": [
    "\n",
    "import re\n",
    "import email.utils\n",
    "\n",
    "n_emails = int(input().strip())\n",
    "# ^[a-zA-Z] : Starts with a letter (either lowercase or uppercase)\n",
    "# [\\w\\.-]* : Followed by any number of word characters (a-z, A-Z, 0-9, _) or . or -\n",
    "# @ : Followed by @ symbol\n",
    "# [a-zA-Z]+ : Followed by one or more letters (either lowercase or uppercase)\n",
    "# \\. : Followed by a dot (.)\n",
    "# [a-zA-Z]{1,3} : Ends with one to three letters (either lowercase or uppercase)\n",
    "# $ : End of the line\n",
    "# So, this pattern will match any string that is a valid email address with these constraints.\n",
    "pattern = r'^[a-zA-Z][\\w\\.-]*@[a-zA-Z]+\\.[a-zA-Z]{1,3}$'\n",
    "for _ in range(n_emails):\n",
    "        # email.utils.parseaddr returns a tuple with the name and the email address\n",
    "        name, email_add = email.utils.parseaddr(input().strip())\n",
    "        if re.match(pattern, email_add):\n",
    "            print(email.utils.formataddr((name, email_add)))\n"
   ]
  },
  {
   "cell_type": "markdown",
   "metadata": {},
   "source": [
    "### Hex Color Code"
   ]
  },
  {
   "cell_type": "code",
   "execution_count": null,
   "metadata": {},
   "outputs": [],
   "source": [
    "# Enter your code here. Read input from STDIN. Print output to STDOUT\n",
    "import re\n",
    "\n",
    "n = int(input().strip())\n",
    "brackets = False\n",
    "\n",
    "for _ in range(n):\n",
    "    line = input()\n",
    "    if '{' in line:\n",
    "        brackets = True\n",
    "    elif '}' in line:\n",
    "        brackets = False\n",
    "    elif brackets:\n",
    "        matches = re.findall('#[0-9a-fA-F]{3,6}', line)\n",
    "        for match in matches:\n",
    "            print(match)\n"
   ]
  },
  {
   "cell_type": "markdown",
   "metadata": {},
   "source": [
    "### HTML Parser - Part 1"
   ]
  },
  {
   "cell_type": "code",
   "execution_count": null,
   "metadata": {},
   "outputs": [],
   "source": [
    "# Enter your code here. Read input from STDIN. Print output to STDOUT\n",
    "from html.parser import HTMLParser\n",
    "\n",
    "class MyHTMLParser(HTMLParser):\n",
    "    # This functions are methods of a class that is a subclass of the Python built-in HTMLParser class\n",
    "    # So we are overriding the methods of the parent class needed for this task \n",
    "    def handle_starttag(self, tag, attrs):\n",
    "        print(\"Start :\", tag)\n",
    "        for attr in attrs:\n",
    "            print('->', attr[0], '>', attr[1])\n",
    "\n",
    "    def handle_endtag(self, tag):\n",
    "        print(\"End   :\", tag)\n",
    "\n",
    "    def handle_startendtag(self, tag, attrs):\n",
    "        print(\"Empty :\", tag)\n",
    "        for attr in attrs:\n",
    "            print('->', attr[0], '>', attr[1])\n",
    "\n",
    "# Create a new instance of the class\n",
    "parser = MyHTMLParser()\n",
    "\n",
    "n = int(input().strip())\n",
    "for _ in range(n):\n",
    "    # Feed the parser with the input\n",
    "    parser.feed(input())\n"
   ]
  },
  {
   "cell_type": "markdown",
   "metadata": {},
   "source": [
    "### HTML Parser - Part 2"
   ]
  },
  {
   "cell_type": "code",
   "execution_count": null,
   "metadata": {},
   "outputs": [],
   "source": [
    "from html.parser import HTMLParser\n",
    "\n",
    "class MyHTMLParser(HTMLParser):\n",
    "  def handle_comment(self, data):\n",
    "        lines = len(data.split('\\n'))\n",
    "        if lines > 1:\n",
    "            print('>>> Multi-line Comment')\n",
    "        else:\n",
    "            print('>>> Single-line Comment')\n",
    "        if data.strip():\n",
    "            print(data)\n",
    "\n",
    "  def handle_data(self, data):\n",
    "        if data.strip():\n",
    "            print(\">>> Data\")\n",
    "            print(data)\n",
    " \n",
    "html = \"\"       \n",
    "for i in range(int(input())):\n",
    "    html += input().rstrip()\n",
    "    html += '\\n'\n",
    "    \n",
    "parser = MyHTMLParser()\n",
    "parser.feed(html)\n",
    "\n"
   ]
  },
  {
   "cell_type": "markdown",
   "metadata": {},
   "source": [
    "### Detect HTML Tags, Attributes and Attribute Values"
   ]
  },
  {
   "cell_type": "code",
   "execution_count": null,
   "metadata": {},
   "outputs": [],
   "source": [
    "# Enter your code here. Read input from STDIN. Print output to STDOUT\n",
    "from html.parser import HTMLParser\n",
    "\n",
    "class MyHTMLParser(HTMLParser):\n",
    "    def handle_starttag(self, tag, attrs):\n",
    "        print(tag)\n",
    "        for attr in attrs:\n",
    "            print('->', attr[0], '>', attr[1])\n",
    "            \n",
    "parser = MyHTMLParser()\n",
    "\n",
    "n = int(input().strip())\n",
    "for _ in range(n):\n",
    "    parser.feed(input())\n"
   ]
  },
  {
   "cell_type": "markdown",
   "metadata": {},
   "source": [
    "### Validating UID"
   ]
  },
  {
   "cell_type": "code",
   "execution_count": null,
   "metadata": {},
   "outputs": [],
   "source": [
    "# Enter your code here. Read input from STDIN. Print output to STDOUT\n",
    "import re\n",
    "\n",
    "pattern1 = r'(.*[A-Z]){2,}.*'  # At least 2 uppercase English alphabet characters\n",
    "pattern2 = r'(.*\\d){3,}.*'  # At least 3 digits\n",
    "pattern3 = r'[A-Za-z0-9]{10}' # Contains only alphanumeric characters\n",
    "pattern4 = r'^(?!.*(.).*\\1)'  # No character should repeat\n",
    "n_UID = int(input().strip())\n",
    "for _ in range(n_UID):\n",
    "    uid = input().strip()\n",
    "    if (re.match(pattern1, uid) and re.match(pattern2, uid) and\n",
    "        re.match(pattern3, uid) and re.match(pattern4, uid)):\n",
    "        print('Valid')\n",
    "    else:\n",
    "      print('Invalid')\n"
   ]
  },
  {
   "cell_type": "markdown",
   "metadata": {},
   "source": [
    "### Validating Credit Card Numbers"
   ]
  },
  {
   "cell_type": "code",
   "execution_count": null,
   "metadata": {},
   "outputs": [],
   "source": [
    "# Enter your code here. Read input from STDIN. Print output to STDOUT\n",
    "import re\n",
    "\n",
    "n_cards = int(input().strip())\n",
    "\n",
    "# ^: Start of the string.\n",
    "# (?!.*(\\d)(-?\\1){3}) : Negative lookahead assertion. This asserts that what immediately follows the current position in the string is not any digit (\\d) followed by the same digit repeated three times (-?\\1){3}, with optional dashes (-?) in between.\n",
    "# [456]\\d{3} : Match a digit that is either 4, 5, or 6, followed by any three digits.\n",
    "# (?:-?\\d{4}){3} : Non-capturing group that matches an optional dash (-?) followed by any four digits (\\d{4}), repeated three times ({3}).\n",
    "# $: End of the string.\n",
    "pattern = r\"^(?!.*(\\d)(-?\\1){3})[456]\\d{3}(?:-?\\d{4}){3}$\"\n",
    "\n",
    "for _ in range(n_cards):\n",
    "    matches = re.match(pattern, input().strip())\n",
    "    if matches:\n",
    "        print(\"Valid\")\n",
    "    else:\n",
    "        print(\"Invalid\")\n"
   ]
  },
  {
   "cell_type": "markdown",
   "metadata": {},
   "source": [
    "### Valid Postal Code"
   ]
  },
  {
   "cell_type": "code",
   "execution_count": null,
   "metadata": {},
   "outputs": [],
   "source": [
    "regex_integer_in_range = r\"^[1-9][0-9]{5}$\"\n",
    "regex_alternating_repetitive_digit_pair = r\"(\\d)(?=\\d\\1)\"\n",
    "\n",
    "\n",
    "import re\n",
    "P = input()\n",
    "\n",
    "print (bool(re.match(regex_integer_in_range, P)) \n",
    "and len(re.findall(regex_alternating_repetitive_digit_pair, P)) < 2)"
   ]
  },
  {
   "cell_type": "markdown",
   "metadata": {},
   "source": [
    "### Matrix Script"
   ]
  },
  {
   "cell_type": "code",
   "execution_count": null,
   "metadata": {},
   "outputs": [],
   "source": [
    "#!/bin/python3\n",
    "\n",
    "import math\n",
    "import os\n",
    "import random\n",
    "import re\n",
    "import sys\n",
    "\n",
    "\n",
    "first_multiple_input = input().rstrip().split()\n",
    "\n",
    "n = int(first_multiple_input[0])\n",
    "\n",
    "m = int(first_multiple_input[1])\n",
    "\n",
    "matrix = []\n",
    "\n",
    "for _ in range(n):\n",
    "    matrix_item = input()\n",
    "    matrix.append(matrix_item)\n",
    "\n",
    "matrix = list(zip(*matrix))\n",
    "\n",
    "sample = str()\n",
    "\n",
    "for words in matrix:\n",
    "    for char in words:\n",
    "        sample += char\n",
    "        \n",
    "pattern = r'(?<=\\w)([^\\w]+)(?=\\w)'\n",
    "print(re.sub(pattern, ' ', sample))\n"
   ]
  },
  {
   "cell_type": "markdown",
   "metadata": {},
   "source": [
    "## XML\n",
    "### Find the Score"
   ]
  },
  {
   "cell_type": "code",
   "execution_count": null,
   "metadata": {},
   "outputs": [],
   "source": [
    "import sys\n",
    "import xml.etree.ElementTree as etree\n",
    "\n",
    "def get_attr_number(root):\n",
    "    score = 0\n",
    "    nodes = [root]\n",
    "    \n",
    "    while nodes:\n",
    "        # Pop the last element of the list and save it in current_node\n",
    "        current_node = nodes.pop()\n",
    "        # The attribute of the xml element is a dictionary that holds the element's attributes as key-value pairs\n",
    "        score += len(current_node.attrib)\n",
    "        # The extend method appends the elements of the list current_node to the list nodes \n",
    "        # I do this to iterate over the children of the current node\n",
    "        nodes.extend(current_node)\n",
    "    \n",
    "    return score\n",
    "\n",
    "if __name__ == '__main__':\n",
    "    sys.stdin.readline()\n",
    "    xml = sys.stdin.read()\n",
    "    tree = etree.ElementTree(etree.fromstring(xml))\n",
    "    root = tree.getroot()\n",
    "    print(get_attr_number(root))"
   ]
  },
  {
   "cell_type": "markdown",
   "metadata": {},
   "source": [
    "###  Find the Maximum Depth"
   ]
  },
  {
   "cell_type": "code",
   "execution_count": null,
   "metadata": {},
   "outputs": [],
   "source": [
    "import xml.etree.ElementTree as etree\n",
    "\n",
    "maxdepth = 0\n",
    "def depth(elem, level):\n",
    "    global maxdepth\n",
    "    level += 1\n",
    "    if level > maxdepth:\n",
    "        maxdepth = level\n",
    "    for child in elem:\n",
    "        # Recursive call to the function for each child of the element\n",
    "        depth(child, level)\n",
    "        \n",
    "    \n",
    "\n",
    "if __name__ == '__main__':\n",
    "    n = int(input())\n",
    "    xml = \"\"\n",
    "    for i in range(n):\n",
    "        xml =  xml + input() + \"\\n\"\n",
    "    tree = etree.ElementTree(etree.fromstring(xml))\n",
    "    depth(tree.getroot(), -1)\n",
    "    print(maxdepth)"
   ]
  },
  {
   "cell_type": "markdown",
   "metadata": {},
   "source": [
    "## Closures and Decorators\n",
    "### Standardize Mobile Number Using Decorators"
   ]
  },
  {
   "cell_type": "code",
   "execution_count": null,
   "metadata": {},
   "outputs": [],
   "source": [
    "def wrapper(f):\n",
    "    def fun(l):\n",
    "        numbers = []\n",
    "        for number in l:\n",
    "            if len(number) == 11:\n",
    "                numbers.append(number[1:])\n",
    "            elif len(number) == 12:\n",
    "                numbers.append(number[2:])\n",
    "            elif len(number) == 13:\n",
    "                numbers.append(number[3:])\n",
    "            else:\n",
    "                numbers.append(number)\n",
    "        f([\"+91 \" + number[-10:-5] + \" \" + number[-5:] for number in sorted(numbers)])\n",
    "    return fun\n",
    "\n",
    "@wrapper\n",
    "def sort_phone(l):\n",
    "    print(*sorted(l), sep='\\n')\n",
    "\n",
    "if __name__ == '__main__':\n",
    "    l = [input() for _ in range(int(input()))]\n",
    "    sort_phone(l) \n",
    "\n",
    "\n"
   ]
  },
  {
   "cell_type": "markdown",
   "metadata": {},
   "source": [
    "### Decorators 2 - Name Directory"
   ]
  },
  {
   "cell_type": "code",
   "execution_count": null,
   "metadata": {},
   "outputs": [],
   "source": [
    "\n",
    "def person_lister(f):\n",
    "    def inner(people):\n",
    "        return map(f, sorted(people, key=lambda x: int(x[2])))\n",
    "        \n",
    "    return inner\n",
    "\n",
    "@person_lister\n",
    "def name_format(person):\n",
    "    return (\"Mr. \" if person[3] == \"M\" else \"Ms. \") + person[0] + \" \" + person[1]\n",
    "\n",
    "if __name__ == '__main__':\n",
    "    people = [input().split() for i in range(int(input()))]\n",
    "    print(*name_format(people), sep='\\n')"
   ]
  },
  {
   "cell_type": "markdown",
   "metadata": {},
   "source": [
    "## Numpy"
   ]
  },
  {
   "cell_type": "markdown",
   "metadata": {},
   "source": [
    "### Arrays"
   ]
  },
  {
   "cell_type": "code",
   "execution_count": null,
   "metadata": {},
   "outputs": [],
   "source": [
    "import numpy\n",
    "\n",
    "def arrays(arr):\n",
    "    arr.reverse()\n",
    "    numpy_arr = numpy.array(arr, float)\n",
    "    return numpy_arr\n",
    "\n",
    "arr = input().strip().split(' ')\n",
    "result = arrays(arr)\n",
    "print(result)"
   ]
  },
  {
   "cell_type": "markdown",
   "metadata": {},
   "source": [
    "### Shape and Reshape"
   ]
  },
  {
   "cell_type": "code",
   "execution_count": null,
   "metadata": {},
   "outputs": [],
   "source": [
    "import numpy\n",
    "\n",
    "print (numpy.reshape(numpy.array([i for i in input().strip().split()], dtype=int), (3, 3)))"
   ]
  },
  {
   "cell_type": "markdown",
   "metadata": {},
   "source": [
    "### Transpose and Flatten"
   ]
  },
  {
   "cell_type": "code",
   "execution_count": null,
   "metadata": {},
   "outputs": [],
   "source": [
    "import numpy\n",
    "\n",
    "n,m = map(int,input().strip().split())\n",
    "numpy_arr = numpy.array([[i for i in input().strip().split()] for _ in range(n)], dtype=int)\n",
    "\n",
    "print(numpy.transpose(numpy_arr))\n",
    "print(numpy_arr.flatten())\n",
    "\n"
   ]
  },
  {
   "cell_type": "markdown",
   "metadata": {},
   "source": [
    "### Concatenate"
   ]
  },
  {
   "cell_type": "code",
   "execution_count": null,
   "metadata": {},
   "outputs": [],
   "source": [
    "import numpy\n",
    "\n",
    "n,m,p = map(int,input().strip().split())\n",
    "arr1 = [[i for i in input().strip().split()]for _ in range(n)]\n",
    "arr2 = [[i for i in input().strip().split()]for _ in range(m)]\n",
    "numpy_arr1 = numpy.array(arr1, dtype=int)\n",
    "numpy_arr2 = numpy.array(arr2, dtype=int)\n",
    "\n",
    "print(numpy.concatenate((numpy_arr1,numpy_arr2), axis = 0))\n",
    "\n"
   ]
  },
  {
   "cell_type": "markdown",
   "metadata": {},
   "source": [
    "### Zeros and Ones"
   ]
  },
  {
   "cell_type": "code",
   "execution_count": null,
   "metadata": {},
   "outputs": [],
   "source": [
    "import numpy\n",
    "\n",
    "dimensions = tuple(map(int, input().strip().split()))\n",
    "\n",
    "zeros_array = numpy.zeros(dimensions, dtype=int)\n",
    "ones_array = numpy.ones(dimensions, dtype=int)\n",
    "\n",
    "print(zeros_array)\n",
    "print(ones_array)"
   ]
  },
  {
   "cell_type": "markdown",
   "metadata": {},
   "source": [
    "### Eye and Identity"
   ]
  },
  {
   "cell_type": "code",
   "execution_count": null,
   "metadata": {},
   "outputs": [],
   "source": [
    "import numpy\n",
    "\n",
    "numpy.set_printoptions(legacy='1.13')\n",
    "\n",
    "dimentions = tuple(map(int, input().strip().split()))\n",
    "\n",
    "print(numpy.eye(*dimentions,k=0))\n",
    "\n"
   ]
  },
  {
   "cell_type": "markdown",
   "metadata": {},
   "source": [
    "### Array Mathematics"
   ]
  },
  {
   "cell_type": "code",
   "execution_count": null,
   "metadata": {},
   "outputs": [],
   "source": [
    "import numpy\n",
    "\n",
    "n, m = map(int, input().strip().split())\n",
    "a = numpy.array([input().strip().split() for _ in range(n)], int)\n",
    "b = numpy.array([input().strip().split() for _ in range(n)], int)\n",
    "\n",
    "print(a + b)\n",
    "print(a - b)\n",
    "print(a * b)\n",
    "print(a // b)\n",
    "print(a % b)\n",
    "print(a ** b)\n",
    "\n"
   ]
  },
  {
   "cell_type": "markdown",
   "metadata": {},
   "source": [
    "### Floor, Ceil and Rint"
   ]
  },
  {
   "cell_type": "code",
   "execution_count": null,
   "metadata": {},
   "outputs": [],
   "source": [
    "import numpy\n",
    "\n",
    "numpy.set_printoptions(legacy = '1.13')\n",
    "\n",
    "numpy_arr = numpy.array(input().split(), float)\n",
    "\n",
    "print(numpy.floor(numpy_arr))\n",
    "print(numpy.ceil(numpy_arr))\n",
    "print(numpy.rint(numpy_arr))\n",
    "\n"
   ]
  },
  {
   "cell_type": "markdown",
   "metadata": {},
   "source": [
    "### Sum and Prod"
   ]
  },
  {
   "cell_type": "code",
   "execution_count": null,
   "metadata": {},
   "outputs": [],
   "source": [
    "import numpy\n",
    "\n",
    "n, m = map(int, input().strip().split())\n",
    "\n",
    "numpy_arr = numpy.array([input().strip().split() for _ in range(n)], dtype = int)\n",
    "sum_array = numpy.sum(numpy_arr, axis=0)\n",
    "product = numpy.prod(sum_array)\n",
    "\n",
    "print(product)\n",
    "\n"
   ]
  },
  {
   "cell_type": "markdown",
   "metadata": {},
   "source": [
    "### Min and Max"
   ]
  },
  {
   "cell_type": "code",
   "execution_count": null,
   "metadata": {},
   "outputs": [],
   "source": [
    "import numpy\n",
    "\n",
    "n, m = map(int, input().strip().split())\n",
    "\n",
    "numpy_arr = numpy.array([input().strip().split() for _ in range(n)], int)\n",
    "min_array = numpy.min(numpy_arr, axis=1)\n",
    "max_value = numpy.max(min_array)\n",
    "\n",
    "print(max_value)\n",
    "\n"
   ]
  },
  {
   "cell_type": "markdown",
   "metadata": {},
   "source": [
    "### Mean, Var, and Std"
   ]
  },
  {
   "cell_type": "code",
   "execution_count": null,
   "metadata": {},
   "outputs": [],
   "source": [
    "import numpy\n",
    "\n",
    "n, m = map(int, input().strip().split())\n",
    "numpy_arr = numpy.array([input().strip().split() for _ in range(n)], float)\n",
    "\n",
    "print(numpy.mean(numpy_arr, axis=1))\n",
    "print(numpy.var(numpy_arr, axis=0))\n",
    "print(round(numpy.std(numpy_arr), 11))"
   ]
  },
  {
   "cell_type": "markdown",
   "metadata": {},
   "source": [
    "### Dot and Cross"
   ]
  },
  {
   "cell_type": "code",
   "execution_count": null,
   "metadata": {},
   "outputs": [],
   "source": [
    "import numpy\n",
    "\n",
    "n = int(input().strip())\n",
    "\n",
    "a = numpy.array([input().strip().split() for _ in range(n)], int)\n",
    "b = numpy.array([input().strip().split() for _ in range(n)], int)\n",
    "\n",
    "print(numpy.dot(a, b))\n",
    "\n"
   ]
  },
  {
   "cell_type": "markdown",
   "metadata": {},
   "source": [
    "### Inner and Outer"
   ]
  },
  {
   "cell_type": "code",
   "execution_count": null,
   "metadata": {},
   "outputs": [],
   "source": [
    "import numpy\n",
    "\n",
    "a = numpy.array(input().strip().split(), int)\n",
    "b = numpy.array(input().strip().split(), int)\n",
    "\n",
    "print(numpy.inner(a, b))\n",
    "print(numpy.outer(a, b))"
   ]
  },
  {
   "cell_type": "markdown",
   "metadata": {},
   "source": [
    "### Polynomials"
   ]
  },
  {
   "cell_type": "code",
   "execution_count": null,
   "metadata": {},
   "outputs": [],
   "source": [
    "import numpy\n",
    "\n",
    "coefficients = list(map(float, input().split()))\n",
    "x = float(input())\n",
    "\n",
    "value = numpy.polyval(coefficients, x)\n",
    "\n",
    "print(value)"
   ]
  },
  {
   "cell_type": "markdown",
   "metadata": {},
   "source": [
    "### Linear Algebra"
   ]
  },
  {
   "cell_type": "code",
   "execution_count": null,
   "metadata": {},
   "outputs": [],
   "source": [
    "import numpy\n",
    "\n",
    "n = int(input())\n",
    "\n",
    "matrix = numpy.array([input().split() for _ in range(n)], float)\n",
    "determinant = numpy.linalg.det(matrix)\n",
    "\n",
    "print(round(determinant, 2))\n"
   ]
  },
  {
   "cell_type": "markdown",
   "metadata": {},
   "source": [
    "# Problema 2"
   ]
  },
  {
   "cell_type": "markdown",
   "metadata": {},
   "source": [
    "## Birthday Cake Candles"
   ]
  },
  {
   "cell_type": "code",
   "execution_count": null,
   "metadata": {},
   "outputs": [],
   "source": [
    "#!/bin/python3\n",
    "\n",
    "import math\n",
    "import os\n",
    "import random\n",
    "import re\n",
    "import sys\n",
    "\n",
    "def birthdayCakeCandles(candles):\n",
    "    max_heigth = max(candles)\n",
    "    return candles.count(max_heigth)\n",
    "\n",
    "if __name__ == '__main__':\n",
    "    fptr = open(os.environ['OUTPUT_PATH'], 'w')\n",
    "\n",
    "    candles_count = int(input().strip())\n",
    "\n",
    "    candles = list(map(int, input().rstrip().split()))\n",
    "\n",
    "    result = birthdayCakeCandles(candles)\n",
    "\n",
    "    fptr.write(str(result) + '\\n')\n",
    "\n",
    "    fptr.close()\n"
   ]
  },
  {
   "cell_type": "markdown",
   "metadata": {},
   "source": [
    "## Number Line Jumps"
   ]
  },
  {
   "cell_type": "code",
   "execution_count": null,
   "metadata": {},
   "outputs": [],
   "source": [
    "#!/bin/python3\n",
    "\n",
    "import math\n",
    "import os\n",
    "import random\n",
    "import re\n",
    "import sys\n",
    "\n",
    "def kangaroo(x1, v1, x2, v2):\n",
    "    if v1 > v2 and (x2 - x1) % (v1 - v2) == 0:\n",
    "        return 'YES'\n",
    "    else:\n",
    "        return 'NO'\n",
    "\n",
    "if __name__ == '__main__':\n",
    "    fptr = open(os.environ['OUTPUT_PATH'], 'w')\n",
    "\n",
    "    first_multiple_input = input().rstrip().split()\n",
    "\n",
    "    x1 = int(first_multiple_input[0])\n",
    "\n",
    "    v1 = int(first_multiple_input[1])\n",
    "\n",
    "    x2 = int(first_multiple_input[2])\n",
    "\n",
    "    v2 = int(first_multiple_input[3])\n",
    "\n",
    "    result = kangaroo(x1, v1, x2, v2)\n",
    "\n",
    "    fptr.write(result + '\\n')\n",
    "\n",
    "    fptr.close()\n"
   ]
  },
  {
   "cell_type": "markdown",
   "metadata": {},
   "source": [
    "## Viral Advertising"
   ]
  },
  {
   "cell_type": "code",
   "execution_count": null,
   "metadata": {},
   "outputs": [],
   "source": [
    "#!/bin/python3\n",
    "\n",
    "import math\n",
    "import os\n",
    "import random\n",
    "import re\n",
    "import sys\n",
    "\n",
    "#\n",
    "# Complete the 'viralAdvertising' function below.\n",
    "#\n",
    "# The function is expected to return an INTEGER.\n",
    "# The function accepts INTEGER n as parameter.\n",
    "#\n",
    "\n",
    "def viralAdvertising(n):\n",
    "    shared = 5\n",
    "    total = 0\n",
    "    \n",
    "    for _ in range(n):\n",
    "       liked_n = shared // 2\n",
    "       total += liked_n\n",
    "       shared = liked_n * 3\n",
    "       \n",
    "    return total\n",
    "       \n",
    "      \n",
    "   \n",
    "\n",
    "if __name__ == '__main__':\n",
    "    fptr = open(os.environ['OUTPUT_PATH'], 'w')\n",
    "\n",
    "    n = int(input().strip())\n",
    "\n",
    "    result = viralAdvertising(n)\n",
    "\n",
    "    fptr.write(str(result) + '\\n')\n",
    "\n",
    "    fptr.close()\n"
   ]
  },
  {
   "cell_type": "markdown",
   "metadata": {},
   "source": [
    "## Insertion Sort - Part 1"
   ]
  },
  {
   "cell_type": "code",
   "execution_count": null,
   "metadata": {},
   "outputs": [],
   "source": [
    "#!/bin/python3\n",
    "\n",
    "import math\n",
    "import os\n",
    "import random\n",
    "import re\n",
    "import sys\n",
    "\n",
    "def insertionSort1(n, arr):\n",
    "    # Base case\n",
    "    if n <= 1:\n",
    "        print(' '.join(map(str, arr)))\n",
    "        return arr\n",
    "    \n",
    "    # If not in Base case\n",
    "    # Store the value to be compared\n",
    "    stored_value = arr[n-1]\n",
    "    # Position in the array where to start the comparison\n",
    "    i = n-2  \n",
    "    \n",
    "    # This loop that makes the comparison and eventualy inserts the stored value in the right position\n",
    "    while i >= 0 and arr[i] > stored_value:\n",
    "        arr[i+1] = arr[i]\n",
    "        print(' '.join(map(str, arr)))\n",
    "        # Move to the next element to the left\n",
    "        i -= 1\n",
    "    \n",
    "    # When the loop ends, the position of the element to be sorted is found and is inserted\n",
    "    arr[i+1] = stored_value\n",
    "    \n",
    "    # Recursive call to the function with n-1\n",
    "    return insertionSort1(n-1, arr)\n",
    "\n",
    "if __name__ == '__main__':\n",
    "    n = int(input().strip())\n",
    "\n",
    "    arr = list(map(int, input().rstrip().split()))\n",
    "\n",
    "    insertionSort1(n, arr)\n"
   ]
  },
  {
   "cell_type": "markdown",
   "metadata": {},
   "source": [
    "## Insertion Sort - Part 2"
   ]
  },
  {
   "cell_type": "code",
   "execution_count": null,
   "metadata": {},
   "outputs": [],
   "source": [
    "#!/bin/python3\n",
    "\n",
    "import math\n",
    "import os\n",
    "import random\n",
    "import re\n",
    "import sys\n",
    "\n",
    "def insertionSort2(n, arr):\n",
    "    # Iterate over the array from the second element\n",
    "    for i in range(1, n):\n",
    "        key = arr[i]\n",
    "        # Start the comparison from the element before the key\n",
    "        j = i - 1\n",
    "        # This loop makes the comparison and exchanges the elements\n",
    "        # The confront is made with the elements at the left of the key\n",
    "        while j >= 0 and key < arr[j]:\n",
    "            arr[j + 1] = arr[j]\n",
    "            j -= 1\n",
    "        # at the end of the loop the key is inserted in the right position\n",
    "        arr[j + 1] = key\n",
    "        print(' '.join(map(str, arr)))\n",
    "    \n",
    "        \n",
    "\n",
    "if __name__ == '__main__':\n",
    "    n = int(input().strip())\n",
    "\n",
    "    arr = list(map(int, input().rstrip().split()))\n",
    "\n",
    "    insertionSort2(n, arr)\n"
   ]
  },
  {
   "cell_type": "markdown",
   "metadata": {},
   "source": [
    "## Recursive Digit Sum"
   ]
  },
  {
   "cell_type": "code",
   "execution_count": null,
   "metadata": {},
   "outputs": [],
   "source": [
    "#!/bin/python3\n",
    "\n",
    "import math\n",
    "import os\n",
    "import random\n",
    "import re\n",
    "import sys\n",
    "\n",
    "def superDigit(n, k):\n",
    "    string = n*k\n",
    "    \n",
    "    # If len(string) == 1 we have the super digit\n",
    "    while len(string) > 1:\n",
    "        # Convert the string to a list of digits\n",
    "        digit_list = list(string)\n",
    "        # digit are strings so we convert them to integers with a for loop in a list comprehension\n",
    "        digit_sum = sum([int(digit) for digit in digit_list])\n",
    "        # The new string to be evaluated is the sum of the digits\n",
    "        string = str(digit_sum)\n",
    "    return string\n",
    "    \n",
    "\n",
    "if __name__ == '__main__':\n",
    "    fptr = open(os.environ['OUTPUT_PATH'], 'w')\n",
    "\n",
    "    first_multiple_input = input().rstrip().split()\n",
    "\n",
    "    n = first_multiple_input[0]\n",
    "\n",
    "    k = int(first_multiple_input[1])\n",
    "\n",
    "    result = superDigit(n, k)\n",
    "\n",
    "    fptr.write(str(result) + '\\n')\n",
    "\n",
    "    fptr.close()\n"
   ]
  }
 ],
 "metadata": {
  "kernelspec": {
   "display_name": "Python 3",
   "language": "python",
   "name": "python3"
  },
  "language_info": {
   "codemirror_mode": {
    "name": "ipython",
    "version": 3
   },
   "file_extension": ".py",
   "mimetype": "text/x-python",
   "name": "python",
   "nbconvert_exporter": "python",
   "pygments_lexer": "ipython3",
   "version": "3.10.5"
  }
 },
 "nbformat": 4,
 "nbformat_minor": 2
}
